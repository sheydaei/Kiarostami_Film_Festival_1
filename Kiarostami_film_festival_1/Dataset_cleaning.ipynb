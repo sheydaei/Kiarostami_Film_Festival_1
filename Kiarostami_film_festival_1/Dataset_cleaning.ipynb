{
 "cells": [
  {
   "cell_type": "code",
   "execution_count": null,
   "id": "9778defd",
   "metadata": {},
   "outputs": [],
   "source": [
    "import pandas as pd\n",
    "import numpy as np\n",
    "import re\n",
    "from datetime import datetime\n",
    "import matplotlib.pyplot as plt\n"
   ]
  },
  {
   "cell_type": "code",
   "execution_count": null,
   "id": "f370e33e",
   "metadata": {},
   "outputs": [],
   "source": [
    "df = pd.read_csv('./films.csv')\n",
    "\n",
    "#Create a backup of the original dataset to verify during coding.\n",
    "df4 = pd.read_csv('./films.csv')"
   ]
  },
  {
   "cell_type": "code",
   "execution_count": null,
   "id": "ea2876a3",
   "metadata": {},
   "outputs": [],
   "source": [
    "df = df.drop(df[df['Director Name'] == 'تست کاوه'].index)"
   ]
  },
  {
   "cell_type": "code",
   "execution_count": null,
   "id": "6e3f933a",
   "metadata": {},
   "outputs": [],
   "source": [
    "df"
   ]
  },
  {
   "cell_type": "markdown",
   "id": "4cf64b88",
   "metadata": {},
   "source": [
    "## Creating gender column\n"
   ]
  },
  {
   "cell_type": "code",
   "execution_count": null,
   "id": "6918d0eb",
   "metadata": {},
   "outputs": [],
   "source": [
    "df['Director Name'] = df['Director Name'].str.strip().str.lower().str.title()"
   ]
  },
  {
   "cell_type": "code",
   "execution_count": null,
   "id": "d01035e4",
   "metadata": {},
   "outputs": [],
   "source": [
    "df['Director Name'].unique()"
   ]
  },
  {
   "cell_type": "code",
   "execution_count": null,
   "id": "32debae4",
   "metadata": {},
   "outputs": [],
   "source": [
    "#Male's names\n",
    "male_names_list = [\n",
    "   'احمد', 'پدرام', 'مهدی', 'محمد', 'حمید رضا', 'آرش', 'خشایار',\n",
    "       'مهرداد', 'امیر', 'میثم', 'محسن', 'کیان', 'mobin', 'حسام و عباس',\n",
    "       'مهران', 'علی', 'اسماعیل', 'Mostafa', 'Arash', 'دانیال', 'حمید',\n",
    "       'سامان', 'مرتضی', 'سروش', 'صباح', 'ناصر', 'Amir', 'هاشم',\n",
    "       'Abdul hamid', 'ایمان', 'Hesam', 'مصطفی', 'سینا - امیر', 'حسین',\n",
    "       'رضا', 'محمد مهدی', 'meysam', 'هامون', 'سید مرتضی', 'مسعود',\n",
    "       'شاهین', 'کیانوش', 'بهراد', 'Saman', 'Caner', 'Bardia', 'Hamed',\n",
    "       'Kadir', 'سید محمد علی', 'وحید', 'حبیب', 'آزاد', 'محمود', 'عقیل',\n",
    "       'Iman', 'Saeed', 'بهمن', 'محمدرضا', 'عادل', 'Mojtaba', 'Mohamad',\n",
    "       'سجاد', 'خلیل', 'مختار', 'مادیار', 'شفق', 'Ali', 'هاوار', 'فرزین',\n",
    "       'آکو', 'Nali', 'سعید', 'Hassan', 'آریوبرزن', 'AILI', 'Kaveh',\n",
    "       'بهروز', 'Mohamadsina', 'مجید', 'یاسر', 'صابر', 'Muhammadreza',\n",
    "       'امیرمحمد', 'شادمهر', 'Orod', 'پیمان', 'فرید', 'محمد امین', 'سینا',\n",
    "       'نادر', 'Yassine', 'Ahmad and Mohamad', 'Mohamad and Ahmad',\n",
    "       'Mohsen', 'فواد', 'سیاوش', 'Sahand', 'علیرضا', 'Moj',\n",
    "       'Hamidreza and Hamed', 'Rowal', 'Hadi', 'امیراردلان', 'Siavash',\n",
    "       'محمدمهدی', 'Reza', 'کوروش', 'Kiarash', 'SAHAND', 'احسان', 'معین',\n",
    "       'Shahoo', 'ارسطو', 'Bahman , Ramin', 'Nima', 'Masoud', 'Pedram',\n",
    "       'رسام', 'عباس', 'Farshid', 'حمیدرضا', 'بهنام', 'سید عدنان',\n",
    "       'محمد رضا', 'مجتبی', 'شهاب', 'آژاک', 'آرمین', 'Mobin', 'یوسف',\n",
    "       'Madyar', 'فربد', 'محمد نام مستعار پویا', 'Kapil', 'نیما', 'Omid',\n",
    "       'ali', 'Mehdi, Saied', 'Armin', 'عزت الله', 'هادی', 'Navid',\n",
    "       'Sarkot', 'Sabah', 'Shahryar', 'Sohaib', 'فرشاد', 'Parsa', 'Ahmad',\n",
    "       'محسن  - جواد', 'مبین', 'Kamran', 'محمد(شهرام)', 'مصطفا', 'رامین',\n",
    "       'Husnora', 'فرگل - سیدحسین', 'مازیار', 'بیژن', 'عرفان', 'رسول',\n",
    "       'Zabiullah', 'nazir', 'کورش', 'مهریار', 'فرشید', 'صالح', 'اطهر',\n",
    "       'سیدجواد', 'شهرام', 'نوید', 'محمدعلی', 'کیا', 'komeil', 'Rahbar',\n",
    "       'Mohamadreza', 'Roghayeh', 'آرمان', 'اکبر', 'ارمین', 'میلاد',\n",
    "       'امیررضا', 'حامد', 'بهادر', 'سهیل - فریما', 'صادق', 'متین',\n",
    "       'Arman', 'صحرا', 'کیارش', 'بهروز ، شیرین ، فرناز', 'mehdi',\n",
    "       'مهدی (پوریا)', 'اهورا', 'عرشیا', 'کورُش', 'منصور', 'اردشیر',\n",
    "       'پوریا', 'آرسان', 'کیانمهر', 'Swayam', 'Alireza', 'Monir', 'جابر',\n",
    "       'Shahin', 'Başak', 'سبحان ، محمد', 'Tahmineh', 'جواد', 'ASoq',\n",
    "       'Mohammad Mahdi', 'Kiarash, Arash', 'Sajad, Alireza', 'Peyvand',\n",
    "       'عمران', 'Saleh', 'Amirhossein', 'Yasaman', 'Mumin', 'افشین',\n",
    "       'مسلم', 'شهریار', 'دلاور', 'بابک', 'Maggie', 'امیرمحسن', 'Odina',\n",
    "       'khaled', 'Amen', 'پرستو / سیاوش', 'محمدحسن', 'ماجد', 'بهزاد',\n",
    "       'Morteza', 'بنی', 'Hasainar', 'کیوان', 'Ehsan', 'فرهاد',\n",
    "       'سید جواد', 'Mohammad', 'omid', 'اصغر', 'فرزاد', 'امیرحسین',\n",
    "       'مهدي', 'حسن', 'بهرام', 'محمد علی', 'mathlouthi', 'سید محمدحسین',\n",
    "       'محمدنبی', 'محمدجواد', 'سید محمدرضا', 'navid', 'marwa',\n",
    "       'Shiblul Haque Shuvon', 'عیسی', 'علی محمد', 'علی اکبر', 'محمدحسین',\n",
    "       'محمد پوریا', 'روزبه', 'محمد جواد', 'Davoud', 'سورنا', 'امین',\n",
    "       'سهیل', 'جمشید', 'پارسا', 'بهار', 'نیما و آلما', 'صمد',\n",
    "       'مهدی / مهدی', 'Erraihani', 'سید مهدی', 'Sasan', 'اشکان', 'بلال',\n",
    "       'کاووس', 'محمدهادی', 'فردین', 'رهام', 'Sajad/Mehdi', 'باربد',\n",
    "       'سید علی', 'سعید کشاورز', 'غلامحسین', 'Parvez', 'کسرا', 'حسام',\n",
    "       'Mashaallah', 'عدنان', 'آلما و نیما', 'پیام', 'محمد عرفان',\n",
    "       'امیرعلی', 'مسیح', 'طاها', 'عارف', 'فریبا ، مهدی (دو کارگردان)',\n",
    "       'امید', 'ارمان', 'آرمین _رادین', 'آریا', 'شروین', 'مانی', 'پویا',\n",
    "       'مهیار', 'امیر حسین', 'آروین', 'یاسین', 'صدرا', 'عطا', 'Mehrshad',\n",
    "       'Karan', 'مهراد', 'امیرسجاد', 'علی طوسی', 'سپهر', 'سید علیرضا',\n",
    "       'رهی', 'سید بهیاد - طاهره', 'سیدحامد', 'Soban', 'Harjeet', 'Radin',\n",
    "       'سحر', 'محمدباقر', 'مهنوش', 'Fariborz', 'Ritam', 'Aryan'\n",
    "       'امیرسجاد', 'سپهر', 'محمدباقر'\n",
    "    \n",
    "]\n",
    "\n",
    "#Update gender column\n",
    "df.loc[df['Director Name'].isin(male_names_list), 'Gender'] = 'male'\n"
   ]
  },
  {
   "cell_type": "code",
   "execution_count": null,
   "id": "c8b5f2a6",
   "metadata": {},
   "outputs": [],
   "source": [
    "#Female's names\n",
    "female_names_list = [\n",
    "    'Sepide', 'آرزو', 'الهام', 'نگار', 'مریم', 'الهه', 'مهسا', 'زهرا',\n",
    "       'Elika', 'الیکا', 'مژده', 'رعنا - عذرا', 'Rachel', 'شیوا', 'Roya',\n",
    "       'Zahra', 'ژیلا', 'ستاره', 'زینب', 'Arezoo', 'پریناز', 'منیژه',\n",
    "       'دنیا', 'Selin', 'روناک', 'سوگل', 'منا', 'مینا', 'کیمیا', 'ریحانه',\n",
    "       'پانیذ', 'شهرزاد', 'سهیلا', 'سیده منصوره', 'سارا', 'اکرم', 'نگین',\n",
    "       'هستی', 'فاطیما', 'Hasti', 'مهتاب', 'یاسمن', 'شکیبا', 'ملیکا',\n",
    "       'سحرسادات', 'درسا', 'آیدا', 'Sara', 'روژان', 'روجا', 'مهدیس',\n",
    "       'ترانه', 'Hoda', 'Nasim', 'Leila', 'Sama', 'Samira', 'نرجس',\n",
    "       'گیتا', 'شادی', 'Niusha', 'مرجان', 'مهدیه', 'عارفه', 'زیور',\n",
    "       'فاطمه', 'پوپک', 'Shugyla', 'بهجت', 'آسمان', 'Negin', 'Poroshat',\n",
    "       'غزال', 'کتایون', 'Elakal', 'Samaneh', 'یکتا', 'لیدا', 'Azadeh',\n",
    "       'عسل', 'فائزه', 'Negar', 'ساحل', 'شقایق', 'Anastasija', 'ایدا',\n",
    "       'نسیم', 'ناهید', 'مائده', 'پگاه', 'نازنین', 'ساجده', 'فهیمه',\n",
    "       'صبا', 'Safoura', 'خدیجه', 'سیده النا', 'نفیسه', 'Goli (Maryam)']\n",
    "\n",
    "#Update gender column\n",
    "df.loc[df['Director Name'].isin(female_names_list), 'Gender'] = 'female'"
   ]
  },
  {
   "cell_type": "code",
   "execution_count": null,
   "id": "39b3a749",
   "metadata": {},
   "outputs": [],
   "source": [
    "df.loc[~df['Director Name'].isin(male_names_list) & ~df['Director Name'].isin(female_names_list), 'Gender'] = 'Other'"
   ]
  },
  {
   "cell_type": "code",
   "execution_count": null,
   "id": "0f6fe444",
   "metadata": {},
   "outputs": [],
   "source": [
    "df['Gender'].value_counts()"
   ]
  },
  {
   "cell_type": "markdown",
   "id": "85a3a8e2",
   "metadata": {},
   "source": [
    "## Edit Countries"
   ]
  },
  {
   "cell_type": "code",
   "execution_count": null,
   "id": "89d26476",
   "metadata": {},
   "outputs": [],
   "source": [
    "df['Country of Residence'].unique()"
   ]
  },
  {
   "cell_type": "code",
   "execution_count": null,
   "id": "8bf901dd",
   "metadata": {},
   "outputs": [],
   "source": [
    "#Edit name of countries\n",
    "location_mapping = {\n",
    "    'ایران': 'Iran',\n",
    "    'ایران-تبریز- کوی لاله -مجتمع باران': 'Iran',\n",
    "    'Iran': 'Iran',\n",
    "    'tehran': 'Iran',\n",
    "    'تهران': 'Iran',\n",
    "    'Canada': 'Canada',\n",
    "    'France': 'France',\n",
    "    'فارس': 'Iran',\n",
    "    'کرج': 'Iran',\n",
    "    'Tehran': 'Iran',\n",
    "    'iarn': 'Iran',  \n",
    "    'Korea': 'South Korea',\n",
    "    'Türkiye': 'Turkey',\n",
    "    'IRAN': 'Iran',\n",
    "    'Turkey': 'Turkey',\n",
    "    'امارات': 'UAE',\n",
    "    'United States': 'USA',\n",
    "    'ایران(تهران)': 'Iran',\n",
    "    'Austria': 'Austria',\n",
    "    'Iraq': 'Iraq',\n",
    "    'iran': 'Iran',\n",
    "    'England': 'United Kingdom',\n",
    "    'Maroc': 'Morocco',\n",
    "    'ایران / کانادا': 'Iran',\n",
    "    'كانادا': 'Canada',\n",
    "    'Kurdistan. Iraq': 'Iraq',\n",
    "    'آلمان': 'Germany',\n",
    "    'اسران': 'Iran',   \n",
    "    'ايران': 'Iran',\n",
    "    'یزد': 'Iran',\n",
    "    'India': 'India',\n",
    "    'O’zbekiston': 'Uzbekistan',\n",
    "    'Tajikistan': 'Tajikistan',\n",
    "    'South Korea': 'South Korea',\n",
    "    'France - Reims': 'France',\n",
    "    'The Netherlands': 'Netherlands',\n",
    "    'Australia': 'Australia',\n",
    "    'Germany': 'Germany',\n",
    "    'کرمان': 'Iran',\n",
    "    'NEPAL': 'Nepal',\n",
    "    'Freiburg': 'Germany',\n",
    "    'Dushanbe': 'Tajikistan',\n",
    "    'USA': 'USA',\n",
    "    'Kurdistan': 'Iraq',\n",
    "    'پرتغال / ایران': 'Iran',\n",
    "    'Kazakhstan': 'Kazakhstan',\n",
    "    'tunis': 'Tunisia',\n",
    "    'سوئد': 'Sweden',\n",
    "    'كردستان': 'Iraq',\n",
    "    'Egypt': 'Egypt',\n",
    "    'Bangladesh': 'Bangladesh',\n",
    "    'ایرانی': 'Iran',\n",
    "    'هلند': 'Netherlands',\n",
    "    'ایران / امریکا': 'USA',\n",
    "    'اصفهان': 'Iran',\n",
    "    'Morocco': 'Morocco',\n",
    "    'Switzerland': 'Switzerland',\n",
    "    'Cyprus': 'Cyprus',\n",
    "    'Países Bajos': 'Netherlands',\n",
    "    'تهران _کانادا': 'Canada',\n",
    "    'Sri Lanka': 'Sri Lanka',\n",
    "    'Sweden': 'Sweden',\n",
    "    'india': 'India'\n",
    "}\n"
   ]
  },
  {
   "cell_type": "code",
   "execution_count": null,
   "id": "79df4440",
   "metadata": {},
   "outputs": [],
   "source": [
    "df['Country of Residence'] = df['Country of Residence'].astype('object')"
   ]
  },
  {
   "cell_type": "code",
   "execution_count": null,
   "id": "373782d9",
   "metadata": {},
   "outputs": [],
   "source": [
    "df['Country of Residence'] = df['Country of Residence'].map(location_mapping).fillna(df['Country of Residence'])"
   ]
  },
  {
   "cell_type": "code",
   "execution_count": null,
   "id": "41f91aae",
   "metadata": {},
   "outputs": [],
   "source": [
    "df['Country of Residence'].unique()"
   ]
  },
  {
   "cell_type": "markdown",
   "id": "5f96af78",
   "metadata": {},
   "source": [
    "### Edit Durations"
   ]
  },
  {
   "cell_type": "code",
   "execution_count": null,
   "id": "8bfc7980",
   "metadata": {},
   "outputs": [],
   "source": [
    "df['Duration_cleaned'] = df['Duration'].str.replace(r\"[^0-9,.':;]\", \"\",regex=True)"
   ]
  },
  {
   "cell_type": "code",
   "execution_count": null,
   "id": "b9a1cae7",
   "metadata": {},
   "outputs": [],
   "source": [
    "def convert_persian_to_english(text):\n",
    "    persian_to_english_map = {\n",
    "        '۰': '0', '۱': '1', '۲': '2', '۳': '3', '۴': '4',\n",
    "        '۵': '5', '۶': '6', '۷': '7', '۸': '8', '۹': '9',\n",
    "        '٠': '0', '١': '1', '٢': '2', '٣': '3', '٤': '4',\n",
    "        '٥': '5', '٦': '6', '٧': '7', '٨': '8', '٩': '9'\n",
    "    }\n",
    "    for persian_digit, english_digit in persian_to_english_map.items():\n",
    "        text = text.replace(persian_digit, english_digit)\n",
    "    return text\n",
    "\n",
    "# Apply the function to a specific column\n",
    "df['duration_english'] = df['Duration'].apply(convert_persian_to_english)\n",
    "    "
   ]
  },
  {
   "cell_type": "code",
   "execution_count": null,
   "id": "5f5f4ebd",
   "metadata": {},
   "outputs": [],
   "source": [
    "\n",
    "\n",
    "def convert_to_mm_ss(text):\n",
    "    # Convert Persian/Arabic-Indic digits to English\n",
    "    persian_to_english_map = {\n",
    "        '۰': '0', '۱': '1', '۲': '2', '۳': '3', '۴': '4',\n",
    "        '۵': '5', '۶': '6', '۷': '7', '۸': '8', '۹': '9',\n",
    "        '٠': '0', '١': '1', '٢': '2', '٣': '3', '٤': '4',\n",
    "        '٥': '5', '٦': '6', '٧': '7', '٨': '8', '٩': '9'\n",
    "    }\n",
    "    for persian_digit, english_digit in persian_to_english_map.items():\n",
    "        text = text.replace(persian_digit, english_digit)\n",
    "\n",
    "        # Standardize text\n",
    "        text = text.lower().replace('دقیقه', 'min').replace('ساعت', 'hour').replace('hours', 'hour').replace('ثانیه', 'sec').replace('seconds', 'sec')\n",
    "\n",
    "        minutes = 0\n",
    "        seconds = 0\n",
    "\n",
    "        # Handle \"X hour\" or \"X hours\"\n",
    "        if 'hour' in text:\n",
    "            match = re.search(r'(\\d+)\\s*hour', text)\n",
    "            if match:\n",
    "                minutes += int(match.group(1)) * 60\n",
    "\n",
    "        # Handle \"X min\"\n",
    "        if 'min' in text:\n",
    "            match = re.search(r'(\\d+)\\s*min', text)\n",
    "            if match:\n",
    "                minutes += int(match.group(1))\n",
    "\n",
    "        # Handle \"X sec\"\n",
    "        if 'sec' in text:\n",
    "            match = re.search(r'(\\d+)\\s*sec', text)\n",
    "            if match:\n",
    "                seconds += int(match.group(1))\n",
    "\n",
    "        # Handle \"X:Y\" (HH:MM or MM:SS)\n",
    "        if ':' in text:\n",
    "            parts = text.split(':')\n",
    "            if len(parts) == 2:  # Format MM:SS\n",
    "                minutes_part = re.sub(r'\\D', '', parts[0])  # Remove non-numeric characters\n",
    "                seconds_part = re.sub(r'\\D', '', parts[1])  # Remove non-numeric characters\n",
    "\n",
    "                # Ensure both parts are not empty and are valid numbers\n",
    "                if minutes_part.isdigit():\n",
    "                    minutes += int(minutes_part)\n",
    "                if seconds_part.isdigit():\n",
    "                    seconds += int(seconds_part)\n",
    "\n",
    "        # Handle decimal numbers (e.g., 3.5 hours or 1.5 min)\n",
    "        match = re.search(r'(\\d+\\.\\d+)', text)\n",
    "        if match:\n",
    "            decimal_minutes = float(match.group(1)) * 60\n",
    "            minutes += int(decimal_minutes // 60)\n",
    "            seconds += int(decimal_minutes % 60)\n",
    "\n",
    "        # Handle single numbers (assume minutes)\n",
    "        if re.match(r'^\\d+$', text.strip()):\n",
    "            minutes += int(text.strip())\n",
    "\n",
    "        # Ensure seconds are less than 60\n",
    "        minutes += seconds // 60\n",
    "        seconds = seconds % 60\n",
    "\n",
    "        return f\"{minutes:02}:{seconds:02}\"\n",
    "\n",
    "# Apply the function to the column\n",
    "df['duration_mm_ss'] = df['Duration'].apply(convert_to_mm_ss)"
   ]
  },
  {
   "cell_type": "code",
   "execution_count": null,
   "id": "679edd72",
   "metadata": {},
   "outputs": [],
   "source": [
    "df['duration_mm_ss'].unique()"
   ]
  },
  {
   "cell_type": "markdown",
   "id": "e0e70def",
   "metadata": {},
   "source": [
    "#### I faced a challenge here. The values imported by applicants weren’t clear at all, so I made some manual tweaks :))."
   ]
  },
  {
   "cell_type": "code",
   "execution_count": null,
   "id": "4a1d2c23",
   "metadata": {},
   "outputs": [],
   "source": [
    "df[['Duration','duration_mm_ss']].iloc[900:]"
   ]
  },
  {
   "cell_type": "code",
   "execution_count": null,
   "id": "68844057",
   "metadata": {},
   "outputs": [],
   "source": [
    "df.loc[918, 'duration_mm_ss'] = 'ٖ05:02'"
   ]
  },
  {
   "cell_type": "markdown",
   "id": "884b8335",
   "metadata": {},
   "source": [
    "### Edit Inspiration Status "
   ]
  },
  {
   "cell_type": "code",
   "execution_count": null,
   "id": "636c611e",
   "metadata": {},
   "outputs": [],
   "source": [
    "df['Inspired_By_Kiarostami_clean'] =df['Inspired By Kiarostami']"
   ]
  },
  {
   "cell_type": "code",
   "execution_count": null,
   "id": "e4720e4a",
   "metadata": {},
   "outputs": [],
   "source": [
    "df['Inspired_By_Kiarostami_clean'] = df['Inspired By Kiarostami'].str.strip().str.lower().replace(r'\\r\\n', '', regex=True)\n"
   ]
  },
  {
   "cell_type": "code",
   "execution_count": null,
   "id": "8eb2b91e",
   "metadata": {},
   "outputs": [],
   "source": [
    "def inspired(value):\n",
    "    if isinstance(value, str):  \n",
    "        value = value.lower()\n",
    "        if 'yes' in value or 'Yes' in value or 'بله' in value or 'آره' in value or 'اره' in value:\n",
    "            return 'Yes'\n",
    "        elif 'no' in value or 'No' in value or 'نه' in value or 'خیر' in value:\n",
    "            return 'No'\n",
    "        else:\n",
    "            return 'Other ways'\n",
    "    else:\n",
    "        return 'Other ways' "
   ]
  },
  {
   "cell_type": "code",
   "execution_count": null,
   "id": "3ef127de",
   "metadata": {},
   "outputs": [],
   "source": [
    "df['Inspired_By_Kiarostami_clean'] = df['Inspired By Kiarostami'].apply(inspired)"
   ]
  },
  {
   "cell_type": "markdown",
   "id": "96edea44",
   "metadata": {},
   "source": [
    "### Edit production year "
   ]
  },
  {
   "cell_type": "code",
   "execution_count": null,
   "id": "dfee6963",
   "metadata": {},
   "outputs": [],
   "source": [
    "#Convert Solar year to Western calender year\n",
    "df['Production Year'] = df['Production Year'].apply(lambda i: i + 622 if i < 2000 else i)\n"
   ]
  },
  {
   "cell_type": "code",
   "execution_count": null,
   "id": "3436dd2a",
   "metadata": {},
   "outputs": [],
   "source": [
    "Q1 = df['Production Year'].quantile(0.25)  # First quartile (25%)\n",
    "Q3 = df['Production Year'].quantile(0.75)  # Third quartile (75%)\n",
    "IQR = Q3 - Q1  # Interquartile range\n",
    "\n",
    "# Define outlier bounds\n",
    "lower_bound = Q1 - 1.5 * IQR\n",
    "upper_bound = Q3 + 1.5 * IQR\n",
    "\n",
    "# Find outliers\n",
    "outliers = df[(df['Production Year'] < lower_bound) | (df['Production Year'] > upper_bound)]"
   ]
  },
  {
   "cell_type": "code",
   "execution_count": null,
   "id": "0f24032e",
   "metadata": {},
   "outputs": [],
   "source": [
    "outliers['Production Year']"
   ]
  },
  {
   "cell_type": "code",
   "execution_count": null,
   "id": "ffb39aff",
   "metadata": {},
   "outputs": [],
   "source": [
    "plt.boxplot(df['Production Year'])\n",
    "plt.title(\"Boxplot for Outlier Detection\")\n",
    "plt.show()"
   ]
  },
  {
   "cell_type": "markdown",
   "id": "587e959f",
   "metadata": {},
   "source": [
    "### Create Age Column"
   ]
  },
  {
   "cell_type": "code",
   "execution_count": null,
   "id": "b84aa949",
   "metadata": {},
   "outputs": [],
   "source": [
    "def extract_age(bio):\n",
    "    current_year = datetime.now().year\n",
    "\n",
    "    # Detect direct age expressions (e.g., \"۱۸ ساله\" or \"18 years old\")\n",
    "    match = re.search(r'\\b(\\d{2,3})\\s*(?:سال|years?)\\b', bio, re.IGNORECASE)\n",
    "    if match:\n",
    "        age = int(match.group(1))\n",
    "        return age if 10 <= age <= 120 else None\n",
    "\n",
    "    # Detect birth year expressions (e.g., \"متولد ۱۳۷۵\" or \"born in 1992\")\n",
    "    match = re.search(r'(?:متولد|born in)\\s*(\\d{4})', bio, re.IGNORECASE)\n",
    "    if match:\n",
    "        birth_year = int(match.group(1))\n",
    "        if birth_year > 1300:  # تبدیل سال شمسی به میلادی\n",
    "            birth_year += 621\n",
    "        return current_year - birth_year if 10 <= (current_year - birth_year) <= 120 else None\n",
    "\n",
    "    # Detect full birth date (e.g., \"۳ اردیبهشت ۱۳۷۴\" or \"May 5, 1992\")\n",
    "    match = re.search(r'(\\d{1,2})\\s*(\\w+)\\s*(\\d{4})\\s*(?:در\\s*[\\w\\s]+)?', bio, re.IGNORECASE)\n",
    "    if match:\n",
    "        try:\n",
    "            day = int(match.group(1))\n",
    "            month = match.group(2)\n",
    "            year = int(match.group(3))\n",
    "            \n",
    "            # Convert Solar Hijri year to Gregorian\n",
    "            if year > 1300:  \n",
    "                year += 621\n",
    "\n",
    "            # Persian month names\n",
    "            months_shamsi = {\n",
    "                'فروردین': 1, 'اردیبهشت': 2, 'خرداد': 3, 'تیر': 4, 'مرداد': 5, 'شهریور': 6,\n",
    "                'مهر': 7, 'آبان': 8, 'آذر': 9, 'دی': 10, 'بهمن': 11, 'اسفند': 12\n",
    "            }\n",
    "            \n",
    "            # English month names\n",
    "            months_english = {\n",
    "                'January': 1, 'February': 2, 'March': 3, 'April': 4, 'May': 5, 'June': 6,\n",
    "                'July': 7, 'August': 8, 'September': 9, 'October': 10, 'November': 11, 'December': 12\n",
    "            }\n",
    "\n",
    "            # Determine whether the month is Persian or Gregorian\n",
    "            month_number = months_shamsi.get(month, None)\n",
    "            if not month_number:\n",
    "                month_number = months_english.get(month, None)\n",
    "\n",
    "            if month_number:\n",
    "                birth_date = datetime(year, month_number, day)\n",
    "                return current_year - birth_date.year if 10 <= (current_year - birth_date.year) <= 120 else None\n",
    "        except ValueError:\n",
    "            pass\n",
    "\n",
    "    # Detect birth date in \"۲۶/۱/۱۳۸۲\" format\n",
    "    match = re.search(r'(?:متولد)\\s*(\\d{1,2})/(\\d{1,2})/(\\d{4})', bio)\n",
    "    if match:\n",
    "        day = int(match.group(1))\n",
    "        month = int(match.group(2))\n",
    "        year = int(match.group(3))\n",
    "         # Convert Solar Hijri year to Gregorian\n",
    "        if year > 1300:  \n",
    "            year += 621\n",
    "        birth_date = datetime(year, month, day)\n",
    "        return current_year - birth_date.year if 10 <= (current_year - birth_date.year) <= 120 else None\n",
    "\n",
    "    # Detect age from phrases like \"۲۵ ساله\"\n",
    "    match = re.search(r'(\\d{1,3})\\s*سال\\s*ه', bio)\n",
    "    if match:\n",
    "        age = int(match.group(1))\n",
    "        return age if 10 <= age <= 120 else None\n",
    "\n",
    "    return None"
   ]
  },
  {
   "cell_type": "code",
   "execution_count": null,
   "id": "f995447f",
   "metadata": {},
   "outputs": [],
   "source": [
    "df['Age'] = df['Biography'].apply(lambda x: extract_age(x) if isinstance(x, str) else None)"
   ]
  },
  {
   "cell_type": "code",
   "execution_count": null,
   "id": "ac8639dc",
   "metadata": {},
   "outputs": [],
   "source": [
    "Q1 = df['Age'].quantile(0.25)  # First quartile (25%)\n",
    "Q3 = df['Age'].quantile(0.75)  # Third quartile (75%)\n",
    "IQR = Q3 - Q1  # Interquartile range\n",
    "\n",
    "# Define outlier bounds\n",
    "lower_bound = Q1 - 1.5 * IQR\n",
    "upper_bound = Q3 + 1.5 * IQR\n",
    "\n",
    "# Find outliers\n",
    "outliers = df[(df['Age'] < lower_bound) | (df['Age'] > upper_bound)]"
   ]
  },
  {
   "cell_type": "code",
   "execution_count": null,
   "id": "3ebf3fc3",
   "metadata": {},
   "outputs": [],
   "source": [
    "outliers"
   ]
  },
  {
   "cell_type": "code",
   "execution_count": null,
   "id": "5e9608ea",
   "metadata": {},
   "outputs": [],
   "source": [
    "df.to_csv('./Final_dataset.csv')"
   ]
  },
  {
   "cell_type": "code",
   "execution_count": null,
   "id": "ed719592",
   "metadata": {},
   "outputs": [],
   "source": []
  },
  {
   "cell_type": "code",
   "execution_count": null,
   "id": "4de0b035",
   "metadata": {},
   "outputs": [],
   "source": []
  }
 ],
 "metadata": {
  "kernelspec": {
   "display_name": "Python 3 (ipykernel)",
   "language": "python",
   "name": "python3"
  },
  "language_info": {
   "codemirror_mode": {
    "name": "ipython",
    "version": 3
   },
   "file_extension": ".py",
   "mimetype": "text/x-python",
   "name": "python",
   "nbconvert_exporter": "python",
   "pygments_lexer": "ipython3",
   "version": "3.11.5"
  }
 },
 "nbformat": 4,
 "nbformat_minor": 5
}
